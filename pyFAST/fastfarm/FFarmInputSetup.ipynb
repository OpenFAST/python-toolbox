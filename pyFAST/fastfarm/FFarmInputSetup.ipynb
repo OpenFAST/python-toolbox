{
 "cells": [
  {
   "cell_type": "markdown",
   "metadata": {},
   "source": [
    "# import necessary packages"
   ]
  },
  {
   "cell_type": "code",
   "execution_count": 1,
   "metadata": {},
   "outputs": [],
   "source": [
    "import os, sys\n",
    "import numpy as np\n",
    "import matplotlib.pyplot as plt\n",
    "import pandas as pd\n",
    "from stochasticTurbulenceTools_mod import stochasticTurbulence\n",
    "from FFarmCaseCreation import FFarmCaseCreation, WriteFFarmFile\n",
    "\n",
    "plt.rc(\"font\",family=\"serif\")\n",
    "plt.rc(\"font\",size=14)\n",
    "\n",
    "%matplotlib inline"
   ]
  },
  {
   "cell_type": "markdown",
   "metadata": {},
   "source": [
    "# Read in all known/given parameters"
   ]
  },
  {
   "cell_type": "code",
   "execution_count": 2,
   "metadata": {},
   "outputs": [],
   "source": [
    "ParamsFile = 'SampleFiles/FFarmParams.txt'"
   ]
  },
  {
   "cell_type": "code",
   "execution_count": 3,
   "metadata": {},
   "outputs": [],
   "source": [
    "Pars=pd.read_csv(ParamsFile, delimiter='\\t',header=None,skiprows=1,index_col=0,nrows=5,names=['Var','Val'])\n",
    "xlocs_tmp=pd.read_csv(ParamsFile, delimiter='\\t',header=None,skiprows=6,index_col=0,nrows=1)\n",
    "ylocs_tmp=pd.read_csv(ParamsFile, delimiter='\\t',header=None,skiprows=7,index_col=0,nrows=1)\n",
    "zlocs_tmp=pd.read_csv(ParamsFile, delimiter='\\t',header=None,skiprows=8,index_col=0,nrows=1)"
   ]
  },
  {
   "cell_type": "code",
   "execution_count": 4,
   "metadata": {},
   "outputs": [],
   "source": [
    "xlocs=[xlocs_tmp[1][0], xlocs_tmp[2][0], xlocs_tmp[3][0], xlocs_tmp[4][0], xlocs_tmp[5][0]]\n",
    "ylocs=[ylocs_tmp[1][0], ylocs_tmp[2][0], ylocs_tmp[3][0], ylocs_tmp[4][0], ylocs_tmp[5][0]]\n",
    "zlocs=[zlocs_tmp[1][0], zlocs_tmp[2][0], zlocs_tmp[3][0], zlocs_tmp[4][0], zlocs_tmp[5][0]]"
   ]
  },
  {
   "cell_type": "code",
   "execution_count": 5,
   "metadata": {},
   "outputs": [],
   "source": [
    "D=Pars['Val']['D']\n",
    "HubHt=Pars['Val']['HubHt']\n",
    "high_extent_X=Pars['Val']['high_extent_X']\n",
    "high_extent_Y=Pars['Val']['high_extent_Y']\n",
    "nTurbs=int(Pars['Val']['nTurbs'])"
   ]
  },
  {
   "cell_type": "code",
   "execution_count": 6,
   "metadata": {},
   "outputs": [],
   "source": [
    "Case = FFarmCaseCreation(nTurbs,'TestCase')\n",
    "tpath = '../turbineModel/Test18' ## do not include .fst extention\n",
    "Case.Turb(D,HubHt,tpath,cmax=3)"
   ]
  },
  {
   "cell_type": "markdown",
   "metadata": {},
   "source": [
    "## Read in TurbSim Parameters"
   ]
  },
  {
   "cell_type": "markdown",
   "metadata": {},
   "source": [
    "### Determine if TurbSim parameters are to be read directly from .inp or .bts file or entered manually"
   ]
  },
  {
   "cell_type": "code",
   "execution_count": 7,
   "metadata": {},
   "outputs": [],
   "source": [
    "## If ReadTS=True, TurbSim parameters will be read directly from the TurbSim.inp or TurbSim.bts file\n",
    "ReadTS = True\n",
    "\n",
    "## if ReadINP = True, TurbSim parameters will be read directly from the TurbSim.inp file. Otherwise, TurbSim.bts file will be used.\n",
    "ReadINP = False"
   ]
  },
  {
   "cell_type": "code",
   "execution_count": 8,
   "metadata": {},
   "outputs": [
    {
     "name": "stdout",
     "output_type": "stream",
     "text": [
      "Opening file SampleFiles/TestCase.bts...\n"
     ]
    }
   ],
   "source": [
    "if ReadTS == True:\n",
    "    TSpath = 'SampleFiles/'\n",
    "    if ReadINP == True:\n",
    "        TSFile = os.path.join(TSpath+os.sep+Case.prefix+'.inp')\n",
    "        \n",
    "        \n",
    "    else:\n",
    "        TSFile = os.path.join(TSpath+os.sep+Case.prefix+'.bts')\n",
    "        IFdata = stochasticTurbulence(Case.D,prefix=Case.prefix)\n",
    "        IFdata.readBTS(TSpath, HubHt)\n",
    "        \n",
    "        IFdata.kHub = IFdata.z2k(HubHt)\n",
    "        \n",
    "        Vhub = IFdata.u[:,IFdata.jHub,IFdata.kHub].mean()\n",
    "else:\n",
    "    print('TurbSim parameters must be entered directly')"
   ]
  },
  {
   "cell_type": "markdown",
   "metadata": {},
   "source": [
    "## Compute all additional input parameters"
   ]
  },
  {
   "cell_type": "code",
   "execution_count": 9,
   "metadata": {},
   "outputs": [],
   "source": [
    "Case.turbLocs(xlocs,ylocs,zlocs)\n",
    "Case.discretization(Vhub)\n",
    "Case.highResDomain(IFdata,Vhub,Case.dX_High_desired,high_extent_X,high_extent_Y)\n",
    "Case.lowResDomain(Case.dX_Low_desired,Vhub)"
   ]
  },
  {
   "cell_type": "markdown",
   "metadata": {},
   "source": [
    "# Rewrite FFarm Input File"
   ]
  },
  {
   "cell_type": "code",
   "execution_count": 10,
   "metadata": {},
   "outputs": [
    {
     "name": "stdout",
     "output_type": "stream",
     "text": [
      "Modifying SampleFiles/TestCase.fstf to be SampleFiles/TestCase_mod.fstf\n"
     ]
    }
   ],
   "source": [
    "FFpath = 'SampleFiles/'\n",
    "OrigFile = os.path.join(FFpath+Case.prefix+'.fstf')\n",
    "NewFile = os.path.join(FFpath+Case.prefix+'_mod.fstf')\n",
    "WriteFFarmFile(OrigFile, NewFile, Case, NewFile=False)"
   ]
  },
  {
   "cell_type": "markdown",
   "metadata": {},
   "source": [
    "# visualize it"
   ]
  },
  {
   "cell_type": "code",
   "execution_count": 11,
   "metadata": {},
   "outputs": [
    {
     "data": {
      "image/png": "[encoded data removed]",
      "text/plain": [
       "<matplotlib.figure.Figure at 0x30a0a7630>"
      ]
     },
     "metadata": {},
     "output_type": "display_data"
    }
   ],
   "source": [
    "fig = plt.figure(figsize=(7.5,5))\n",
    "ax  = fig.add_subplot(111,aspect=\"equal\")\n",
    "\n",
    "xmax_low = Case.X0_Low+Case.dX_Low*Case.nX_Low\n",
    "ymax_low = Case.Y0_Low+Case.dY_Low*Case.nY_Low\n",
    "\n",
    "# low-res box\n",
    "ax.plot([Case.X0_Low,xmax_low,xmax_low,Case.X0_Low,Case.X0_Low],\n",
    "        [Case.Y0_Low,Case.Y0_Low,ymax_low,ymax_low,Case.Y0_Low],'--k',lw=2,label='Low')\n",
    "\n",
    "# high-res boxes\n",
    "for wt in range(Case.nTurbs):\n",
    "    xmax_high = Case.X0_High[wt]+Case.dX_High*Case.nX_High\n",
    "    ymax_high = Case.Y0_High[wt]+Case.dY_High*Case.nY_High\n",
    "    ax.plot([Case.X0_High[wt],xmax_high,xmax_high,Case.X0_High[wt],Case.X0_High[wt]],\n",
    "            [Case.Y0_High[wt],Case.Y0_High[wt],ymax_high,ymax_high,Case.Y0_High[wt]],\n",
    "            '-',\n",
    "            label=\"HighT{0}\".format(wt+1))\n",
    "    ax.plot(Case.x[wt],Case.y[wt],'x',ms=8,mew=2,label=\"WT{0}\".format(wt+1))\n",
    "\n",
    "plt.legend(bbox_to_anchor=(1.05,1.015),frameon=False)\n",
    "\n",
    "ax.set_xlabel(\"x-location [m]\")\n",
    "ax.set_ylabel(\"y-location [m]\")\n",
    "\n",
    "fig.tight_layout\n",
    "fig.savefig('FFarmLayout.pdf',bbox_to_inches='tight',dpi=500)"
   ]
  },
  {
   "cell_type": "code",
   "execution_count": null,
   "metadata": {},
   "outputs": [],
   "source": []
  }
 ],
 "metadata": {
  "kernelspec": {
   "display_name": "Python 3",
   "language": "python",
   "name": "python3"
  },
  "language_info": {
   "codemirror_mode": {
    "name": "ipython",
    "version": 3
   },
   "file_extension": ".py",
   "mimetype": "text/x-python",
   "name": "python",
   "nbconvert_exporter": "python",
   "pygments_lexer": "ipython3",
   "version": "3.6.8"
  }
 },
 "nbformat": 4,
 "nbformat_minor": 2
}
