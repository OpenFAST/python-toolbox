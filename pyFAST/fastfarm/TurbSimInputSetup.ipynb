{
 "cells": [
  {
   "cell_type": "markdown",
   "metadata": {},
   "source": [
    "# import necessary packages"
   ]
  },
  {
   "cell_type": "code",
   "execution_count": 1,
   "metadata": {},
   "outputs": [],
   "source": [
    "import os, sys\n",
    "import numpy as np\n",
    "import matplotlib.pyplot as plt\n",
    "import pandas as pd\n",
    "from TurbSimCaseCreation import TSCaseCreation, WriteTSFile\n",
    "\n",
    "plt.rc(\"font\",family=\"serif\")\n",
    "plt.rc(\"font\",size=14)\n",
    "\n",
    "%matplotlib inline"
   ]
  },
  {
   "cell_type": "markdown",
   "metadata": {},
   "source": [
    "# Read in all known/given parameters"
   ]
  },
  {
   "cell_type": "code",
   "execution_count": 2,
   "metadata": {},
   "outputs": [],
   "source": [
    "ParamsFile = 'SampleFiles/TSParams.txt'"
   ]
  },
  {
   "cell_type": "code",
   "execution_count": 3,
   "metadata": {},
   "outputs": [],
   "source": [
    "Pars=pd.read_csv(ParamsFile, delimiter='\\t',header=None,skiprows=1,index_col=0,nrows=5,names=['Var','Val'])\n",
    "xlocs_tmp=pd.read_csv(ParamsFile, delimiter='\\t',header=None,skiprows=6,index_col=0,nrows=1)\n",
    "ylocs_tmp=pd.read_csv(ParamsFile, delimiter='\\t',header=None,skiprows=7,index_col=0,nrows=1)"
   ]
  },
  {
   "cell_type": "code",
   "execution_count": 4,
   "metadata": {},
   "outputs": [],
   "source": [
    "xlocs=[xlocs_tmp[1][0], xlocs_tmp[2][0], xlocs_tmp[3][0], xlocs_tmp[4][0], xlocs_tmp[5][0]]\n",
    "ylocs=[ylocs_tmp[1][0], ylocs_tmp[2][0], ylocs_tmp[3][0], ylocs_tmp[4][0], ylocs_tmp[5][0]]"
   ]
  },
  {
   "cell_type": "code",
   "execution_count": 5,
   "metadata": {},
   "outputs": [],
   "source": [
    "D=Pars['Val']['D']\n",
    "RefHt=Pars['Val']['HubHt']\n",
    "Vhub=Pars['Val']['Vhub']\n",
    "TI=Pars['Val']['TI']\n",
    "Shear=Pars['Val']['Shear']"
   ]
  },
  {
   "cell_type": "code",
   "execution_count": 9,
   "metadata": {},
   "outputs": [],
   "source": [
    "Case = TSCaseCreation('TurbSim')\n",
    "Case.Turb(D,RefHt)\n",
    "Case.turbLocs(xlocs,ylocs)"
   ]
  },
  {
   "cell_type": "markdown",
   "metadata": {},
   "source": [
    "## Compute all additional input parameters"
   ]
  },
  {
   "cell_type": "code",
   "execution_count": 10,
   "metadata": {},
   "outputs": [],
   "source": [
    "Case.discretization(Vhub,TI,Shear)\n",
    "Case.domainSize(1.0)"
   ]
  },
  {
   "cell_type": "markdown",
   "metadata": {},
   "source": [
    "# Rewrite TurbSim Input File"
   ]
  },
  {
   "cell_type": "code",
   "execution_count": 11,
   "metadata": {},
   "outputs": [
    {
     "name": "stdout",
     "output_type": "stream",
     "text": [
      "Writing a new SampleFiles/TurbSim_mod.inp file from scratch\n"
     ]
    }
   ],
   "source": [
    "TSpath = 'SampleFiles/'\n",
    "OrigFile = os.path.join(TSpath+Case.prefix+'.inp')\n",
    "NewFile = os.path.join(TSpath+Case.prefix+'_mod.inp')\n",
    "WriteTSFile(OrigFile, NewFile, Case)"
   ]
  },
  {
   "cell_type": "markdown",
   "metadata": {},
   "source": [
    "# visualize it"
   ]
  },
  {
   "cell_type": "code",
   "execution_count": 12,
   "metadata": {},
   "outputs": [
    {
     "data": {
      "image/png": "[encoded data removed]",
      "text/plain": [
       "<matplotlib.figure.Figure at 0x111796cc0>"
      ]
     },
     "metadata": {},
     "output_type": "display_data"
    }
   ],
   "source": [
    "fig = plt.figure(figsize=(6,5))\n",
    "ax  = fig.add_subplot(111,aspect=\"equal\")\n",
    "\n",
    "xmin = min(Case.x)\n",
    "xmax = max(Case.x)+Case.D\n",
    "\n",
    "ymin = -Case.Width/2\n",
    "ymax = Case.Width/2\n",
    "\n",
    "# low-res box\n",
    "ax.plot([xmin,xmax,xmax,xmin,xmin],\n",
    "        [ymin,ymin,ymax,ymax,ymin],'--k',lw=2,label='Low')\n",
    "\n",
    "# high-res boxes\n",
    "for wt in range(len(Case.x)):\n",
    "    ax.plot(Case.x[wt],Case.y[wt],'x',ms=8,mew=2,label=\"WT{0}\".format(wt+1))\n",
    "\n",
    "plt.legend(bbox_to_anchor=(1.05,1.015),frameon=False)\n",
    "\n",
    "ax.set_xlabel(\"x-location [m]\")\n",
    "ax.set_ylabel(\"y-location [m]\")\n",
    "\n",
    "fig.tight_layout\n",
    "fig.savefig('TSLayout.pdf',bbox_to_inches='tight',dpi=500)"
   ]
  },
  {
   "cell_type": "code",
   "execution_count": null,
   "metadata": {},
   "outputs": [],
   "source": []
  }
 ],
 "metadata": {
  "kernelspec": {
   "display_name": "Python 3",
   "language": "python",
   "name": "python3"
  },
  "language_info": {
   "codemirror_mode": {
    "name": "ipython",
    "version": 3
   },
   "file_extension": ".py",
   "mimetype": "text/x-python",
   "name": "python",
   "nbconvert_exporter": "python",
   "pygments_lexer": "ipython3",
   "version": "3.6.8"
  }
 },
 "nbformat": 4,
 "nbformat_minor": 2
}
