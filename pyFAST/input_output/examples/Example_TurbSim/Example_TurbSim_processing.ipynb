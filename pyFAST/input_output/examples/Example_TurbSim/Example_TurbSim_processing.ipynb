{
 "cells": [
  {
   "cell_type": "code",
   "execution_count": 3,
   "metadata": {
    "collapsed": true
   },
   "outputs": [],
   "source": [
    "# Modify TrubSim parameters and write\n",
    "from pyFAST.input_output import FASTInputFile\n",
    "filename = 'TurbSim.inp' # Name of TurbSim's input file\n",
    "f = FASTInputFile(filename)\n",
    "f['WrBLFF'] = False\n",
    "f['WrADFF'] = True\n",
    "f['WrADTWR'] = True\n",
    "f['NumGrid_Z'] = 20\n",
    "f['NumGrid_Y'] = 21\n",
    "f['AnalysisTime'] = 1200\n",
    "f.write('TurbSim_change.inp') # Modified file name"
   ]
  },
  {
   "cell_type": "code",
   "execution_count": 4,
   "outputs": [
    {
     "name": "stdout",
     "output_type": "stream",
     "text": [
      "Running: TurbSim_x64.exe TurbSim_change.inp\n"
     ]
    },
    {
     "data": {
      "text/plain": "<subprocess.Popen at 0x2137902d088>"
     },
     "execution_count": 4,
     "metadata": {},
     "output_type": "execute_result"
    }
   ],
   "source": [
    "# Run TurbSim\n",
    "from pyFAST.case_generation import runner\n",
    "TurbSimFile = 'TurbSim_change.inp' # Input file\n",
    "Turbsim_EXE = 'TurbSim_x64.exe' # TurbSim executable file\n",
    "runner.run_cmd(TurbSimFile, Turbsim_EXE, wait=False, showOutputs=False, showCommand=True)"
   ],
   "metadata": {
    "collapsed": false,
    "pycharm": {
     "name": "#%%\n"
    }
   }
  },
  {
   "cell_type": "code",
   "execution_count": 7,
   "outputs": [
    {
     "name": "stdout",
     "output_type": "stream",
     "text": [
      "dict_keys(['u', 'uTwr', 'info', 'ID', 'dt', 'y', 'z', 't', 'zTwr', 'zHub', 'uHub'])\n"
     ]
    },
    {
     "data": {
      "text/plain": "array([18.10377371, 18.21866098, 17.97039884, ..., 18.30944832,\n       18.47946827, 18.6696265 ])"
     },
     "execution_count": 7,
     "metadata": {},
     "output_type": "execute_result"
    }
   ],
   "source": [
    "# Reads the speed of three directions\n",
    "from pyFAST.input_output import TurbSimFile\n",
    "ts = TurbSimFile('TurbSim_change.bts')  # Output file\n",
    "print(ts.keys())\n",
    "print(ts['u'][0,:,0,0]) # u Streamwise (longitudinal) wind speed\n",
    "print(ts['u'][1,:,0,0]) # v Transverse (crosswise) wind speed\n",
    "print(ts['u'][2,:,0,0]) # w Vertical wind speed"
   ],
   "metadata": {
    "collapsed": false,
    "pycharm": {
     "name": "#%%\n"
    }
   }
  }
 ],
 "metadata": {
  "kernelspec": {
   "display_name": "Python 3",
   "language": "python",
   "name": "python3"
  },
  "language_info": {
   "codemirror_mode": {
    "name": "ipython",
    "version": 2
   },
   "file_extension": ".py",
   "mimetype": "text/x-python",
   "name": "python",
   "nbconvert_exporter": "python",
   "pygments_lexer": "ipython2",
   "version": "2.7.6"
  }
 },
 "nbformat": 4,
 "nbformat_minor": 0
}